{
 "cells": [
  {
   "cell_type": "markdown",
   "metadata": {
    "collapsed": true
   },
   "source": [
    "# OpenStreetMap Case Study"
   ]
  },
  {
   "cell_type": "markdown",
   "metadata": {},
   "source": [
    "## A look into New Orleans, Lousiana\n",
    "\n",
    "I currently reside in the beautiful city of New Orleans, and am interested to see the how the unique history of New Orleans is revealed in the data from openstreetmap.org. Below are links to familiarize yourself with the city, see New Orleans on openstreetmaps.org, and plan a nice vacation to this great area!\n",
    "https://en.wikipedia.org/wiki/New_Orleans\n",
    "https://www.openstreetmap.org/#map=13/29.9534/-90.1178\n",
    "http://www.neworleanscvb.com/visit/\n",
    "\n"
   ]
  },
  {
   "cell_type": "markdown",
   "metadata": {},
   "source": [
    "## Problems with New Orleans (map data not the city itself)"
   ]
  },
  {
   "cell_type": "code",
   "execution_count": null,
   "metadata": {
    "collapsed": true
   },
   "outputs": [],
   "source": []
  }
 ],
 "metadata": {
  "kernelspec": {
   "display_name": "Python [conda root]",
   "language": "python",
   "name": "conda-root-py"
  },
  "language_info": {
   "codemirror_mode": {
    "name": "ipython",
    "version": 3
   },
   "file_extension": ".py",
   "mimetype": "text/x-python",
   "name": "python",
   "nbconvert_exporter": "python",
   "pygments_lexer": "ipython3",
   "version": "3.5.3"
  }
 },
 "nbformat": 4,
 "nbformat_minor": 2
}
